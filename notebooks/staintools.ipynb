{
 "cells": [
  {
   "cell_type": "code",
   "execution_count": null,
   "id": "9dfc8a11",
   "metadata": {},
   "outputs": [],
   "source": [
    "import logging\n",
    "import sys\n",
    "import pathlib\n",
    "from glob import glob\n",
    "from tqdm import tqdm\n",
    "import numpy as np\n",
    "import pandas as pd\n",
    "import cv2\n",
    "import tifffile\n",
    "import matplotlib.pyplot as plt\n",
    "import staintools\n",
    "\n",
    "sys.path.append('../src')\n",
    "import settings\n",
    "import annotation_utils"
   ]
  },
  {
   "cell_type": "code",
   "execution_count": null,
   "id": "640a9f9f",
   "metadata": {},
   "outputs": [],
   "source": [
    "# Raw training and test data\n",
    "df_hubmap_hpa_organ_segmentation_metadata = pd.concat((\n",
    "    pd.read_csv(settings.DATA / 'train_metadata.csv'),\n",
    "    pd.read_csv(settings.DATA / 'test_metadata.csv')\n",
    "), axis=0, ignore_index=True)\n",
    "\n",
    "# HPA dictionary data\n",
    "df_hpa_metadata = pd.read_csv(settings.DATA / 'external_data' / 'HPA' / 'metadata.csv')\n",
    "# HuBMAP Colonic Crypt data\n",
    "df_hubmap_colonic_crypt_metadata = pd.read_csv(settings.DATA / 'external_data' / 'HuBMAP_Colonic_Crypt' / 'metadata.csv')"
   ]
  },
  {
   "cell_type": "code",
   "execution_count": null,
   "id": "cbbd0cc6",
   "metadata": {},
   "outputs": [],
   "source": [
    "def visualize_stain_transform(raw_image, transformed_image, title):\n",
    "\n",
    "    \"\"\"\n",
    "    Visualize raw and transformed_image \n",
    "\n",
    "    Parameters\n",
    "    ----------\n",
    "    raw_image (numpy.ndarray of shape (height, width, 3)): Raw image array\n",
    "    transformed_image (numpy.ndarray of shape (height, width, 3)): Transformed image array\n",
    "    title (str): Title of the visualization\n",
    "    \"\"\"\n",
    "\n",
    "    fig, axes = plt.subplots(figsize=(32, 20), ncols=2)\n",
    "    axes[0].imshow(raw_image)\n",
    "    axes[1].imshow(transformed_image)\n",
    "    for i in range(2):\n",
    "        axes[i].set_xlabel('')\n",
    "        axes[i].set_ylabel('')\n",
    "        axes[i].tick_params(axis='x', labelsize=15, pad=10)\n",
    "        axes[i].tick_params(axis='y', labelsize=15, pad=10)\n",
    "        \n",
    "    axes[0].set_title(f'Raw Image\\nMean: {np.mean(raw_image):2f} - Std: {np.std(raw_image):2f}\\nMin: {np.min(raw_image)} - Max: {np.max(raw_image)}', size=25, pad=15)\n",
    "    axes[1].set_title(f'Transformed Image\\nMean: {np.mean(transformed_image):2f} - Std: {np.std(transformed_image):2f}\\nMin: {np.min(transformed_image)} - Max: {np.max(transformed_image)}', size=25, pad=15)\n",
    "    fig.suptitle(title, fontsize=50)\n",
    "    \n",
    "    plt.show()\n"
   ]
  },
  {
   "cell_type": "code",
   "execution_count": null,
   "id": "ae646081",
   "metadata": {},
   "outputs": [],
   "source": [
    "image1 = tifffile.imread(df_hubmap_hpa_organ_segmentation_metadata.loc[2, 'image_filename'])\n",
    "image2 = tifffile.imread(df_hubmap_hpa_organ_segmentation_metadata.loc[351, 'image_filename'])"
   ]
  },
  {
   "cell_type": "markdown",
   "id": "f028fdf1",
   "metadata": {},
   "source": [
    "## Luminosity Standardizer"
   ]
  },
  {
   "cell_type": "code",
   "execution_count": null,
   "id": "72a587ac",
   "metadata": {},
   "outputs": [],
   "source": [
    "image1_luminosity_standardized = staintools.LuminosityStandardizer.standardize(image1)\n",
    "visualize_stain_transform(\n",
    "    raw_image=image1,\n",
    "    transformed_image=image1_luminosity_standardized,\n",
    "    title='Luminosity Standardizer'\n",
    ")\n",
    "\n",
    "image2_luminosity_standardized = staintools.LuminosityStandardizer.standardize(image2)\n",
    "visualize_stain_transform(\n",
    "    raw_image=image2,\n",
    "    transformed_image=image2_luminosity_standardized,\n",
    "    title='Luminosity Standardizer'\n",
    ")"
   ]
  },
  {
   "cell_type": "markdown",
   "id": "a0dc7fc3",
   "metadata": {},
   "source": [
    "## Reinhard Color Normalizer"
   ]
  },
  {
   "cell_type": "code",
   "execution_count": null,
   "id": "787dc1a5",
   "metadata": {},
   "outputs": [],
   "source": [
    "reinhard_color_normalizer = staintools.ReinhardColorNormalizer()\n",
    "\n",
    "reinhard_color_normalizer.fit(image1_luminosity_standardized)\n",
    "image2_color_normalized = reinhard_color_normalizer.transform(image2_luminosity_standardized)\n",
    "visualize_stain_transform(\n",
    "    raw_image=image2,\n",
    "    transformed_image=image2_color_normalized,\n",
    "    title='Reinhard Color Normalizer'\n",
    ")\n",
    "\n",
    "reinhard_color_normalizer.fit(image2_luminosity_standardized)\n",
    "image1_color_normalized = reinhard_color_normalizer.transform(image1_luminosity_standardized)\n",
    "visualize_stain_transform(\n",
    "    raw_image=image1,\n",
    "    transformed_image=image1_color_normalized,\n",
    "    title='Reinhard Color Normalizer'\n",
    ")"
   ]
  },
  {
   "cell_type": "markdown",
   "id": "7595a755",
   "metadata": {},
   "source": [
    "## Stain Normalizer"
   ]
  },
  {
   "cell_type": "code",
   "execution_count": null,
   "id": "412c8c14",
   "metadata": {},
   "outputs": [],
   "source": [
    "vahadane_normalizer = staintools.StainNormalizer(method='vahadane')\n",
    "vahadane_normalizer.fit(image1_luminosity_standardized)\n",
    "image2_normalized = vahadane_normalizer.transform(image2_luminosity_standardized)\n",
    "\n",
    "visualize_stain_transform(\n",
    "    raw_image=image2,\n",
    "    transformed_image=image2_normalized,\n",
    "    title='Vahadane Normalizer'\n",
    ")\n",
    "\n",
    "vahadane_normalizer.fit(image2_luminosity_standardized)\n",
    "image1_normalized = vahadane_normalizer.transform(image1_luminosity_standardized)\n",
    "\n",
    "visualize_stain_transform(\n",
    "    raw_image=image1,\n",
    "    transformed_image=image1_normalized,\n",
    "    title='Vahadane Normalizer'\n",
    ")"
   ]
  },
  {
   "cell_type": "code",
   "execution_count": null,
   "id": "4b0a84b6",
   "metadata": {},
   "outputs": [],
   "source": [
    "macenko_normalizer = staintools.StainNormalizer(method='macenko')\n",
    "macenko_normalizer.fit(image1_luminosity_standardized)\n",
    "image2_normalized = macenko_normalizer.transform(image2_luminosity_standardized)\n",
    "\n",
    "visualize_stain_transform(\n",
    "    raw_image=image2,\n",
    "    transformed_image=image2_normalized,\n",
    "    title='Macenko Normalizer'\n",
    ")\n",
    "\n",
    "macenko_normalizer.fit(image2_luminosity_standardized)\n",
    "image1_normalized = macenko_normalizer.transform(image1_luminosity_standardized)\n",
    "\n",
    "visualize_stain_transform(\n",
    "    raw_image=image1,\n",
    "    transformed_image=image1_normalized,\n",
    "    title='Macenko Normalizer'\n",
    ")"
   ]
  },
  {
   "cell_type": "markdown",
   "id": "a3f0adc8",
   "metadata": {},
   "source": [
    "## Stain Augmentor"
   ]
  },
  {
   "cell_type": "code",
   "execution_count": null,
   "id": "3b39dc1a",
   "metadata": {},
   "outputs": [],
   "source": [
    "vahadane_augmentor = staintools.StainAugmentor(method='vahadane', sigma1=0.5, sigma2=0.5, augment_background=False)\n",
    "vahadane_augmentor.fit(image1_luminosity_standardized)\n",
    "\n",
    "visualize_stain_transform(\n",
    "    raw_image=image1_luminosity_standardized,\n",
    "    transformed_image=np.uint8(vahadane_augmentor.pop()),\n",
    "    title='Vahadane Augmentor'\n",
    ")\n",
    "\n",
    "vahadane_augmentor.fit(image2_luminosity_standardized)\n",
    "\n",
    "visualize_stain_transform(\n",
    "    raw_image=image2_luminosity_standardized,\n",
    "    transformed_image=np.uint8(vahadane_augmentor.pop()),\n",
    "    title='Vahadane Augmentor'\n",
    ")"
   ]
  },
  {
   "cell_type": "code",
   "execution_count": null,
   "id": "552206a3",
   "metadata": {},
   "outputs": [],
   "source": [
    "macenko_augmentor = staintools.StainAugmentor(method='macenko', sigma1=0.5, sigma2=0.5, augment_background=False)\n",
    "macenko_augmentor.fit(image1_luminosity_standardized)\n",
    "\n",
    "visualize_stain_transform(\n",
    "    raw_image=image1_luminosity_standardized,\n",
    "    transformed_image=np.uint8(macenko_augmentor.pop()),\n",
    "    title='Macenko Augmentor Augmentor'\n",
    ")\n",
    "\n",
    "macenko_augmentor.fit(image2_luminosity_standardized)\n",
    "\n",
    "visualize_stain_transform(\n",
    "    raw_image=image2_luminosity_standardized,\n",
    "    transformed_image=np.uint8(macenko_augmentor.pop()),\n",
    "    title='Macenko Augmentor'\n",
    ")"
   ]
  },
  {
   "cell_type": "code",
   "execution_count": null,
   "id": "dbdc701f",
   "metadata": {},
   "outputs": [],
   "source": []
  }
 ],
 "metadata": {
  "kernelspec": {
   "display_name": "Python 3 (ipykernel)",
   "language": "python",
   "name": "python3"
  },
  "language_info": {
   "codemirror_mode": {
    "name": "ipython",
    "version": 3
   },
   "file_extension": ".py",
   "mimetype": "text/x-python",
   "name": "python",
   "nbconvert_exporter": "python",
   "pygments_lexer": "ipython3",
   "version": "3.10.4"
  }
 },
 "nbformat": 4,
 "nbformat_minor": 5
}
